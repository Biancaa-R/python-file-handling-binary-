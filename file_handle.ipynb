{
  "nbformat": 4,
  "nbformat_minor": 0,
  "metadata": {
    "colab": {
      "name": "file handle.ipynb",
      "provenance": [],
      "collapsed_sections": [],
      "authorship_tag": "ABX9TyNPYxY+2AyNpmx0+0qlNiS7",
      "include_colab_link": true
    },
    "kernelspec": {
      "name": "python3",
      "display_name": "Python 3"
    },
    "language_info": {
      "name": "python"
    }
  },
  "cells": [
    {
      "cell_type": "markdown",
      "metadata": {
        "id": "view-in-github",
        "colab_type": "text"
      },
      "source": [
        "<a href=\"https://colab.research.google.com/github/Biancaa-R/python-files/blob/main/file_handle.ipynb\" target=\"_parent\"><img src=\"https://colab.research.google.com/assets/colab-badge.svg\" alt=\"Open In Colab\"/></a>"
      ]
    },
    {
      "cell_type": "code",
      "metadata": {
        "id": "KCX0ZzuhP8Pv"
      },
      "source": [
        ""
      ],
      "execution_count": null,
      "outputs": []
    },
    {
      "cell_type": "markdown",
      "metadata": {
        "id": "4598-cidSY9C"
      },
      "source": [
        "searching for a record in binary file"
      ]
    },
    {
      "cell_type": "code",
      "metadata": {
        "id": "UyutWuA1R9bq",
        "colab": {
          "base_uri": "https://localhost:8080/"
        },
        "outputId": "916d599f-0e45-439f-fef3-3334a08168a5"
      },
      "source": [
        "\n",
        "#binary file to search a given record\n",
        "\n",
        "import pickle\n",
        "\n",
        "def binary_search():\n",
        "    F=open(\"studrec.dat\",'rb')  \n",
        "    # your file path will be different\n",
        "    value=pickle.load(F)\n",
        "    search=0\n",
        "    rno=int(input(\"Enter the roll number of the student\"))\n",
        "\n",
        "    for i in value:\n",
        "        if i[0]== rno:\n",
        "            print(\"Record found successfully\")\n",
        "            print(i)\n",
        "            search=1\n",
        "\n",
        "    if search==0:\n",
        "        print(\"Sorry! record not found\")\n",
        "    F.close()\n",
        "\n",
        "binary_search()    "
      ],
      "execution_count": 5,
      "outputs": [
        {
          "output_type": "stream",
          "text": [
            "Enter the roll number of the student7\n",
            "Record found successfully\n",
            "[7, 'bia', 100.0]\n"
          ],
          "name": "stdout"
        }
      ]
    },
    {
      "cell_type": "code",
      "metadata": {
        "colab": {
          "base_uri": "https://localhost:8080/"
        },
        "id": "8qHQyjOYQDa7",
        "outputId": "bd0269cd-3624-4914-fc92-abd390966a23"
      },
      "source": [
        "'''Amit is a monitor of class XII-A and he stored the record of all\n",
        "the students of his class in a file named “class.dat”.\n",
        "Structure of record is [roll number, name, percentage]. His computer\n",
        "teacher has assigned the following duty to Amit\n",
        "\n",
        "Write a function remcount( ) to count the number of students who need\n",
        " remedial class (student who scored less than 40 percent)\n",
        "\n",
        " \n",
        " '''\n",
        "#also find no. of children who got top marks\n",
        "\n",
        "import pickle\n",
        "F=open(\"D:\\\\12th file handle\\\\class.dat\",'ab')\n",
        "list=[[1,\"Ramya\",30],[2,\"vaishnavi\",60],[3,\"anuya\",40],[4,\"kamala\",30],[5,\"anuraag\",10],[6,\"Reshi\",77],[7,\"Biancaa.R\",100],[8,\"sandhya\",65]]\n",
        "\n",
        "\n",
        "pickle.dump(list,F)\n",
        "F.close()\n",
        "\n",
        "def remcount():\n",
        "    F=open(\"D:\\\\12th file handle\\\\class.dat\",\"rb\")\n",
        "    val=pickle.load(F)\n",
        "    count=0\n",
        "    \n",
        "    for i in val:\n",
        "        if i[2]<=40:\n",
        "            print(i,\"eligible for remedial\")\n",
        "            count+=1\n",
        "    print(\"the total number of students are\",count)\n",
        "    F.close()\n",
        "\n",
        "remcount()\n",
        "\n",
        "def firstmark():\n",
        "    F=open(\"D:\\\\12th file handle\\\\class.dat\",'rb')\n",
        "    val=pickle.load(F)\n",
        "    main=[]\n",
        "    count=0\n",
        "    \n",
        "    for i in val:\n",
        "        data=i[2]\n",
        "        main.append(data)\n",
        "        \n",
        "    top=max(main)\n",
        "    print(top,\"is the first mark\")\n",
        "\n",
        "    F.seek(0)\n",
        "    for i in val:\n",
        "        if top==i[2]:\n",
        "            print(i)\n",
        "            print(\"congrats\")\n",
        "            count+=1\n",
        "        \n",
        "    \n",
        "    print(\"the total number of students who secured top marks are\",count)\n",
        "    F.close()\n",
        "firstmark()\n",
        "\n",
        "F=open(\"D:\\\\12th file handle\\\\class.dat\",\"rb\")\n",
        "val=pickle.load(F)\n",
        "print(val)\n",
        "F.close()\n",
        "\n",
        "\n",
        "  "
      ],
      "execution_count": null,
      "outputs": [
        {
          "output_type": "stream",
          "text": [
            "[1, 'Ramya', 30] eligible for remedial\n",
            "[3, 'anuya', 40] eligible for remedial\n",
            "[4, 'kamala', 30] eligible for remedial\n",
            "[5, 'anuraag', 10] eligible for remedial\n",
            "the total number of students are 4\n",
            "100 is the first mark\n",
            "[7, 'Biancaa.R', 100]\n",
            "congrats\n",
            "the total number of students who secured top marks are 1\n",
            "[[1, 'Ramya', 30], [2, 'vaishnavi', 60], [3, 'anuya', 40], [4, 'kamala', 30], [5, 'anuraag', 10], [6, 'Reshi', 77], [7, 'Biancaa.R', 100], [8, 'sandhya', 65]]\n"
          ],
          "name": "stdout"
        }
      ]
    },
    {
      "cell_type": "markdown",
      "metadata": {
        "id": "ppoSLeylQcHN"
      },
      "source": [
        "'''Amit is a monitor of class XII-A and he stored the record of all\n",
        "the students of his class in a file named “class.dat”.\n",
        "Structure of record is [roll number, name, percentage]. His computer\n",
        "teacher has assigned the following duty to Amit\n",
        "\n",
        "Write a function remcount( ) to count the number of students who need\n",
        " remedial class (student who scored less than 40 percent)"
      ]
    }
  ]
}